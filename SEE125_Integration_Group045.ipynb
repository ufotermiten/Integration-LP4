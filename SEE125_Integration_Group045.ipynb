{
 "cells": [
  {
   "attachments": {},
   "cell_type": "markdown",
   "id": "0206eba9",
   "metadata": {
    "tags": []
   },
   "source": [
    "# SEE125: Numerical Integration "
   ]
  },
  {
   "attachments": {},
   "cell_type": "markdown",
   "id": "10703aba",
   "metadata": {},
   "source": [
    "## Here fill in:\n",
    "- **Group Nr.**: 45\n",
    "- **Names**: Ludwig Lewis & Erik Dahllöf"
   ]
  },
  {
   "attachments": {},
   "cell_type": "markdown",
   "id": "b7ed928e",
   "metadata": {
    "tags": []
   },
   "source": [
    "### In this set of exercises you will:\n",
    "- Implement multiple techniques to numerically calculate the integral of functions and tabulated data.\n",
    "- Investigate the errors associated with different techniques.\n",
    "\n",
    "#### The learning objectives are:\n",
    "- Being able to determine the integral using numerical methods\n",
    "- Understanding the errors of different implementations\n"
   ]
  },
  {
   "cell_type": "code",
   "execution_count": 4,
   "id": "33d46879",
   "metadata": {},
   "outputs": [],
   "source": [
    "# Initialisation code for the notebook\n",
    "import numpy as np\n",
    "import matplotlib.pyplot as plt"
   ]
  },
  {
   "attachments": {},
   "cell_type": "markdown",
   "id": "1311d9b7",
   "metadata": {},
   "source": [
    "## Exercise 1: Simple function integration\n",
    "Here you will calculate the integral of a simple function using two different methods. The function in question is:\n",
    "\\begin{equation}\n",
    "\\int_0^2 (x^4 - 2x +1) dx.\n",
    "\\end{equation}\n",
    " \n",
    "This integral is actually one that you can calculate yourself and has the exact value of 4.4. You can compare your answers with this value.\n",
    "\n",
    "First make a plot of the function that should be integrated (the integrand). "
   ]
  },
  {
   "cell_type": "code",
   "execution_count": 5,
   "id": "d113ad1a",
   "metadata": {},
   "outputs": [
    {
     "data": {
      "image/png": "[encoded data removed]",
      "text/plain": [
       "<Figure size 640x480 with 1 Axes>"
      ]
     },
     "metadata": {},
     "output_type": "display_data"
    }
   ],
   "source": [
    "# Your function and plot \n",
    "def f(x):\n",
    "    return x**4 -2*x +1\n",
    "fig, ax = plt.subplots()\n",
    "x = np.linspace(-1,3,1000)\n",
    "ax.plot(x,f(x))\n",
    "ax.set_ylabel('f(x)')\n",
    "ax.set_xlabel('x')\n",
    "plt.show()"
   ]
  },
  {
   "attachments": {},
   "cell_type": "markdown",
   "id": "c4a955c8",
   "metadata": {},
   "source": [
    "### Exercise 1a: The Rectangle Rule\n",
    "\n",
    "The first Newton-Cotes method of calculating an integral is the rectangle rule. \n",
    "\n",
    "Write code to calculate the integral using both the *left* and *right* rectangle rule with $n = 11$ points in the integral range (so 10 \"steps\")."
   ]
  },
  {
   "cell_type": "code",
   "execution_count": 6,
   "id": "cb81cf3a",
   "metadata": {},
   "outputs": [
    {
     "name": "stdout",
     "output_type": "stream",
     "text": [
      "left 3.306560000000001\n",
      "right 5.7065600000000005\n"
     ]
    }
   ],
   "source": [
    "# Your Code for the left and right rectangle rule \n",
    "def left(f,a,b,n=11):\n",
    "    x = np.linspace(a,b,n)\n",
    "    sum = 0\n",
    "    for i in range(n-1):\n",
    "        sum += f(x[i])\n",
    "    sum *= (b-a)/(n-1)\n",
    "    return sum\n",
    "def right(f,a,b,n=11):\n",
    "    x = np.linspace(a,b,n)\n",
    "    sum = 0\n",
    "    for i in range(1,n):\n",
    "        sum += f(x[i])\n",
    "    sum *= (b-a)/(n-1)\n",
    "    return sum\n",
    "print('left', left(f,0,2))\n",
    "print('right', right(f,0,2))"
   ]
  },
  {
   "attachments": {},
   "cell_type": "markdown",
   "id": "6b615a20",
   "metadata": {},
   "source": [
    "### Exercise 1b: The Midpoint Rule\n",
    "\n",
    "A second method (of the Newton-Cotes methods) of calculating an integral is using the midpoint rule. \n",
    "\n",
    "Write code to calculate the integral using the midpoint rule with $n = 11$ points in the integral range (so 10 \"steps\")."
   ]
  },
  {
   "cell_type": "code",
   "execution_count": 7,
   "id": "25b6e002",
   "metadata": {},
   "outputs": [],
   "source": [
    "# Your code for the midpoint rule\n",
    "def mid(f,a,b,n=11):\n",
    "    h = (b-a)/(n)\n",
    "    x = np.linspace(a+h/2,b-h/2,n)\n",
    "    sum = np.sum(f(x))\n",
    "    return h*sum"
   ]
  },
  {
   "attachments": {},
   "cell_type": "markdown",
   "id": "176914ff",
   "metadata": {},
   "source": [
    "### Exercise 1c: The Trapezoidal Rule\n",
    "\n",
    "A third simple method (of the Newton-Cotes methods) of calculating an integral is using the trapezoidal rule. \n",
    "\n",
    "Write code to calculate the integral using the trapezoidal rule with $n = 11$ points in the integral range (so 10 \"steps\")."
   ]
  },
  {
   "cell_type": "code",
   "execution_count": 8,
   "id": "7282508d",
   "metadata": {
    "tags": []
   },
   "outputs": [
    {
     "name": "stdout",
     "output_type": "stream",
     "text": [
      "left 3.306560000000001\n",
      "right 5.7065600000000005\n",
      "mid 4.355986612936275\n",
      "trap 4.50656\n"
     ]
    }
   ],
   "source": [
    "# Your code for the trapezoidal rule\n",
    "def trap(f,a,b,n=11):\n",
    "    h = (b-a)/(n-1)\n",
    "    x = np.linspace(a,b,n)\n",
    "    sum = ((f(x[0])+f(x[n-1]))/2 + np.sum(f(x[1:-1])))*h\n",
    "    return sum\n",
    "print('left', left(f,0,2))\n",
    "print('right', right(f,0,2))\n",
    "print('mid', mid(f,0,2))\n",
    "print('trap', trap(f,0,2))\n"
   ]
  },
  {
   "attachments": {},
   "cell_type": "markdown",
   "id": "b84ebd61",
   "metadata": {},
   "source": [
    "Using your codes, you can play with $N$ to see how many points we need to get a reasonable accuracy. You will do that somewhat more systematically in the final part of exercise 1."
   ]
  },
  {
   "attachments": {},
   "cell_type": "markdown",
   "id": "130529ea",
   "metadata": {},
   "source": [
    "#### Benchmarking the Newton-Cotes Methods\n",
    "\n",
    "In general, you will often be using your code to calculate an integral for which you do not know the answer. However, in this case, since we do know the answer, you can get a feeling for how accurate your code is by comparing your calculated value to the correct answer. \n",
    "\n",
    "This sort of \"benchmarking\" is an integral part of developing numerical simulation software. In particular, you can always find a way for your code to give you \"an answer\". But how can you trust that it is the correct answer? How do you know how much influence the approximations you have made have on the calculated result? \n",
    "\n",
    "For this, it is always a good idea to use your code to perform a calculation for a case where you know the answer. This will allow you to play around to see how to optimize your code to be more accurate (and also to find bugs!). Of course, getting an accurate answer for one type of calculation does not guarantee that your code will be accurate for all calculations, but by trying it out for different types of calculations, you can start to get a feeling for how it performs and build up some trust that it will give you an accurate answer. \n",
    "\n",
    "Here, we will explore such a \"benchmarking\" of the Newton-Cotes methods for calculating integrals, and explore the number of steps needed to achieve a given accuracy. "
   ]
  },
  {
   "attachments": {},
   "cell_type": "markdown",
   "id": "70d9dd21",
   "metadata": {},
   "source": [
    "### Exercise 1d:\n",
    "\n",
    "Use a `while` loop to find the minimum value of $N$ you need to get the correct answer to <a href=https://en.wikipedia.org/wiki/Approximation_error#Formal_Definition>relative error</a> of less than $10^{-6}$ = one part per million (ppm).\n",
    "\n",
    "The definition of relative error is as follows: if $v$ is the correct answer and $v_{\\rm approx}$ is the approximate answer, the relative error $\\eta$ is defined as:\n",
    "\n",
    "\\begin{equation}\n",
    "\\eta = \\left| \\frac{v - v_{\\rm approx}}{v} \\right|\n",
    "\\end{equation}\n",
    "\n",
    "Your while loop should have an \"emergency exit\" test that stops the loop with a `break` statement if $N$ exceeds 10,000.\n",
    "\n",
    "_Tip:_ If you have trouble with your exit condition on your while loop, it might be handy to include a code line `print(\"N %d eta %e\" % (N,eta))` to keep track of what is going on in your code. This is an <a href=https://pythondebugging.com/articles/python-debugging-with-print-statements>elementary form</a> of <a href=https://en.wikipedia.org/wiki/Debugging>debugging</a>."
   ]
  },
  {
   "cell_type": "code",
   "execution_count": 9,
   "id": "22189e00",
   "metadata": {},
   "outputs": [
    {
     "name": "stdout",
     "output_type": "stream",
     "text": [
      "1558 4.400004399987882\n",
      "1101 4.3999956002902465\n"
     ]
    }
   ],
   "source": [
    "# Your benchmarking code\n",
    "def intbench(int,f,a,b,ans,stepsize=1,eps = 1e-6):\n",
    "    eta = 1\n",
    "    N=2\n",
    "    while (eta >= eps):\n",
    "        N+=stepsize\n",
    "        eta = abs((ans-int(f,a,b,N))/ans)\n",
    "        if(N==10000):\n",
    "            break\n",
    "    return N\n",
    "n = intbench(trap,f,0,2,4.4)\n",
    "print(n,trap(f,0,2,n))\n",
    "m = intbench(mid,f,0,2,4.4)\n",
    "print(m,mid(f,0,2,m))\n",
    "#"
   ]
  },
  {
   "attachments": {},
   "cell_type": "markdown",
   "id": "3a5653c6",
   "metadata": {},
   "source": [
    "## Exercise 2: Simpson's Rule\n",
    "\n",
    "Simpson's rule is a numerical integration technique that replaces the linear approximation of the integrand in the trapizoidal technique with a \"best estimate\" quadratic approximation.\n",
    "\n",
    "Write code to implement Simpson's rule for the integral you were asked to solve in exercise 1 using 11 points (10 steps). **Remember that Simpson's rule requires an odd number of points (so an even $N$)**"
   ]
  },
  {
   "cell_type": "code",
   "execution_count": 10,
   "id": "0951b1ff",
   "metadata": {},
   "outputs": [],
   "source": [
    "# Your code for simpson's rule\n",
    "def simp(f,a,b,n=12):\n",
    "    h=(b-a)/n\n",
    "    x=np.linspace(a,b,n+1)\n",
    "    sum= h/3 * (f(x[0])+f(x[n])+2*np.sum(f(x[2:-1:2]))+4*np.sum(f(x[1:-1:2])))\n",
    "    return sum\n"
   ]
  },
  {
   "attachments": {},
   "cell_type": "markdown",
   "id": "7e6fa6ad",
   "metadata": {},
   "source": [
    "Perform the same benchmark as you did in Exercise 1. (But remember the requirement on the number of points $N$!!)"
   ]
  },
  {
   "cell_type": "code",
   "execution_count": 11,
   "id": "6b0d586a",
   "metadata": {},
   "outputs": [
    {
     "data": {
      "text/plain": [
       "1558"
      ]
     },
     "execution_count": 11,
     "metadata": {},
     "output_type": "execute_result"
    }
   ],
   "source": [
    "# Your benchmark of simpson's rule\n",
    "intbench(trap,f,0,2,4.4,2)\n"
   ]
  },
  {
   "attachments": {},
   "cell_type": "markdown",
   "id": "ec499426",
   "metadata": {},
   "source": [
    "## Exercise 3: Investigating the errors of the different implementations\n",
    "\n",
    "Similar to the benchmark exercise you used for Numerical Root finding, you can determine the dependence of the errors on the number of steps $N$ (which sets the interval size $h$) to determine the exponent $p$ in the order of the uncertainty $O(h^p)$.\n",
    "\n",
    "In this exercise you should determine $p$ for **four methods (Right Rectangle, Midpoint, Trapezium and Simpson's method)**. To do this, you should:\n",
    "1) Define the function and the integral intervel that you want to use. In this case, I suggest you use the same function you used in Exercises 1 and 2 (so that you can use the fact that you know that the exact solution is $4.4$.\n",
    "2) Define a function *bencherror* that you can call with the name of the method you are benchmarking. The output from this function should be $h$ and the relative error $\\eta$ (as defined in Exercise 1d).\n",
    "3) Plot the values of the relative error $\\eta$ for increasing $h$ (and thus increasing $N$, start from $N_{\\rm min}=6$ to $N_{\\rm max}=10^4$). (choose the best way to plot, note that the calculations will take some time depending on your choice of interval and function, and remember the special requirement for Simpson's rule!!).\n",
    "4) Perform a fit to determine $p$. (For some methods, you could be reaching the numerical roundoff errors, so take that into account in your fit by removing the part of your solutions that are affected by the roundoff errors). Your values of $p$ should be approximately $1, 2, 2,$ and $4$. [Can you fit it using a simple linear function? (remember the useful properties of a power-law function). I would suggest to use the *scipy* *stats* module with the linear regression tool *stats.linregress*.]"
   ]
  },
  {
   "cell_type": "code",
   "execution_count": 12,
   "id": "99fd5a0a",
   "metadata": {},
   "outputs": [
    {
     "name": "stdout",
     "output_type": "stream",
     "text": [
      "Simpson:  4.028339959194039\n",
      "Trapezium:  2.004490705840163\n",
      "Midpoint:  1.9999800802303087\n",
      "Right:  1.0042594588156166\n"
     ]
    },
    {
     "data": {
      "image/png": "[encoded data removed]",
      "text/plain": [
       "<Figure size 640x480 with 4 Axes>"
      ]
     },
     "metadata": {},
     "output_type": "display_data"
    }
   ],
   "source": [
    "import scipy\n",
    "def f(x):\n",
    "    return x**4 -2*x +1\n",
    "def bencherror(method):\n",
    "    a = 0\n",
    "    b = 2\n",
    "    exact = 4.4\n",
    "    Nmin = 6\n",
    "    Nmax = 10**4\n",
    "    Nvalues = np.arange(Nmin, Nmax,2).astype(int)\n",
    "    errors = np.zeros(len(Nvalues))\n",
    "    hvalues = np.ones(len(errors)) * (b-a)\n",
    "    for i,N in enumerate(Nvalues):\n",
    "        if method == 'Right':\n",
    "            I = right(f, a, b, N)\n",
    "        elif method == 'Midpoint':\n",
    "            I = mid(f, a, b, N)\n",
    "        elif method == 'Trapezium':\n",
    "            I = trap(f, a, b, N)\n",
    "        elif method == 'Simpson':\n",
    "            I = simp(f, a, b, N)\n",
    "        else:\n",
    "            raise ValueError('Method not recognized')\n",
    "        errors[i] = abs(I-exact)/exact\n",
    "        hvalues[i] /=N\n",
    "    if(method == 'Simpson'): # Removing float errors\n",
    "        hvalues = hvalues[:-2000]\n",
    "        errors = errors[:-2000]\n",
    "    return hvalues, errors\n",
    "\n",
    "h0 ,err0 = bencherror('Simpson')\n",
    "h1 ,err1 = bencherror('Trapezium')\n",
    "h2 ,err2 = bencherror('Midpoint')\n",
    "h3 ,err3 = bencherror('Right')\n",
    "fig,ax = plt.subplots(2,2)\n",
    "ax[0,0].plot(h0,err0,label='Simpson')\n",
    "ax[0,1].plot(h1,err1,label='Trapezium')\n",
    "ax[1,0].plot(h2,err2,label='Midpoint')\n",
    "ax[1,1].plot(h3,err3,label='Right')\n",
    "ax[0,0].legend()\n",
    "ax[0,1].legend()\n",
    "ax[1,0].legend()\n",
    "ax[1,1].legend()\n",
    "print('Simpson: ',scipy.stats.linregress(np.log10(h0),np.log10(err0)).slope)\n",
    "print('Trapezium: ',scipy.stats.linregress(np.log10(h1),np.log10(err1)).slope)\n",
    "print('Midpoint: ',scipy.stats.linregress(np.log10(h2),np.log10(err2)).slope)\n",
    "print('Right: ',scipy.stats.linregress(np.log10(h3),np.log10(err3)).slope)\n",
    "plt.show()"
   ]
  },
  {
   "attachments": {},
   "cell_type": "markdown",
   "id": "bb36211d",
   "metadata": {},
   "source": [
    "## Exercise 4: Integrating numerical data\n",
    "\n",
    "The same techniques for the integration of functions can also be used to integrate numerical data. \n",
    "\n",
    "The main difference is that the values of the integrand are not determined by a function call, but instead by looking up it's value in an array. \n",
    "\n",
    "For this you will load data from a file `velocities.txt` that is available online (it can also be found in the course File section). The file contains two columns of numbers, the first representing time $t$ in seconds and the second the $x$-velocity in meters per second of a particle, measured once every second from time $t=0$ to $t=100$ seconds.\n",
    "\n",
    "Read in the data and, using the trapezoidal rule, calculate from them the approximate distance traveled by the particle in the $x$ direction as a function of time. Print the results and plot both the velocity data as well as the distance traveled as a function of time. \n",
    "\n",
    "_Hint_ This is a cumulative integral, a bit different than the definite integrals handled above. Your integral code should produce an array not a number! If $h(t)$ is the function describing the velocity as a function of time, then the answer $g(t)$ is given by:\n",
    "\n",
    "$$\n",
    "g(t) = \\int_0^t h(\\tau) d\\tau\n",
    "$$\n",
    "\n",
    "Every element in your output array is then conceptually defined by computing an integral from $\\tau=0$ to $\\tau = t$. \n"
   ]
  },
  {
   "cell_type": "code",
   "execution_count": 13,
   "id": "e38271e6",
   "metadata": {},
   "outputs": [
    {
     "data": {
      "text/plain": [
       "('velocities.txt', <http.client.HTTPMessage at 0x15a4f859390>)"
      ]
     },
     "execution_count": 13,
     "metadata": {},
     "output_type": "execute_result"
    }
   ],
   "source": [
    " # Download the resource files. \n",
    "import urllib \n",
    "urllib.request.urlretrieve(\"http://www-personal.umich.edu/~mejn/cp/data/velocities.txt\", filename=\"velocities.txt\") \n"
   ]
  },
  {
   "cell_type": "code",
   "execution_count": 44,
   "id": "65cb3a11",
   "metadata": {},
   "outputs": [],
   "source": [
    "# Load the data\n",
    "data = np.loadtxt(\"velocities.txt\") \n",
    "t = data[:,0] \n",
    "v = data[:,1]\n",
    "\n",
    "# Your code\n",
    "g=[]\n",
    "for i in range(len(t)):\n",
    "    g.append((v[0]+v[i])/2+np.sum(v[1:i-1]))\n",
    "g[0]=0\n",
    "\n"
   ]
  },
  {
   "cell_type": "code",
   "execution_count": 45,
   "id": "b7922add",
   "metadata": {},
   "outputs": [
    {
     "data": {
      "image/png": "[encoded data removed]",
      "text/plain": [
       "<Figure size 640x480 with 1 Axes>"
      ]
     },
     "metadata": {},
     "output_type": "display_data"
    }
   ],
   "source": [
    "# Your plot \n",
    "plt.plot(t,v,label='velocity')\n",
    "plt.plot(t,g,label='distance traveled')\n",
    "plt.legend()\n",
    "plt.show()"
   ]
  },
  {
   "attachments": {},
   "cell_type": "markdown",
   "id": "6d875e8f",
   "metadata": {},
   "source": [
    "## Exercise 5: Monte Carlo integration\n",
    "\n",
    "In this exercise, you will use Monte Carlo integration to determine the integral of the function $f(x)=x^n$ in the interval $[0,1]$ for different values of $n$ as well as different number of Monte Carlo samples $N$. As you immediately see, this is a simple integral which you can calculate analytically, so you will be able to investigate the performance of the Monte Carlo integration.\n",
    "- We start with defining a Monte Carlo function that defines a uniformly sampled array $u$ of $N$ number in the interval $[a,b]$. For this we use the *numpy* uniform random number generator (*np.random.uniform*). We also provide a *seed* for the random number generation using *np.random.seed*.\n",
    "- In the Monte Carlo routine we include the option to give as a parameter a function $f$. It then generate an array $f(u)$. This corresponds to the uniformly sampled function.\n",
    "- Remember that the Monte Carlo integration result is calculated from the average of $f(u)$  (or $\\langle f(u) \\rangle$) while the uncertainty is calculated from the standard deviation $var(f(u))$.  [the formulas to determine the integration from these are given in the lecture] We also provide them here.\n",
    "\n",
    "- **Exercise 5a:** Look at the case for $n=3$. Determine the deviation from the analytically calculated value $|I-I_{\\rm calculated}|$ and plot this against the number of Monte Carlo samples $N$. Also compare with the uncertainty calculated directly in our *stats* function. Determine how the error scales with $N$. [Note, I suggest you stop at $N\\sim10000$.\n",
    "\n"
   ]
  },
  {
   "cell_type": "code",
   "execution_count": null,
   "id": "f907902c",
   "metadata": {},
   "outputs": [],
   "source": [
    "# Monte carlo code. It also includes the power-law sampling for the next part of the exercise\n",
    "def montecarlo(f,a,b,n,powerlaw=0):\n",
    "    np.random.seed(31)\n",
    "    us = np.random.uniform(a, b, n)\n",
    "    \n",
    "    if powerlaw==0:\n",
    "        fs = f(us)\n",
    "    else:\n",
    "        k=powerlaw\n",
    "        xs=us**(1/(k+1))\n",
    "        fs=f(xs)/((k+1)*xs**k)\n",
    "        \n",
    "    fbar, err = stats(fs)\n",
    "    return (b-a)*fbar, (b-a)*err\n",
    "\n",
    "# This function calculates the average (fbar) as well as the standard deviations (sqrt(var(f))\n",
    "def stats(fs):\n",
    "    n = fs.size\n",
    "    fbar = np.sum(fs)/n\n",
    "    fsq = np.sum(fs**2)/n\n",
    "    varfbar = (fsq - fbar**2)/n\n",
    "    return fbar, np.sqrt(varfbar)\n",
    "\n",
    "# And this is the function you work with.\n",
    "def fn(x):\n",
    "    return x**3\n",
    "\n",
    "#Your code here\n"
   ]
  },
  {
   "attachments": {},
   "cell_type": "markdown",
   "id": "4ed6f021",
   "metadata": {},
   "source": [
    "As you will have noticed, this evaluation takes quite some time and the error does not decrease very fast. You can understand this if you plot the function and see that, by uniform sampling, many samples will have been taken in the region of the function that contributes little to the integral.\n",
    "\n",
    "To show that we can do better, we now look at 'Importance-Sampling'. Instead of uniformly sampling the function we can try to increase the sampling in the more important area of the function. \n",
    "\n",
    "- Above, we have also implemented a power-law sampling in the Monte Carlo code. The distribution function of power-law sampling is $p(x)=(k+1)x^k$. \n",
    "- We obtain a power-law distribution of random number from a uniform distribution by performing the following transformation [for $x$ uniform in [0,1]]:\n",
    "\\begin{equation}\n",
    "y = x^{1/(k+1)}, \n",
    "\\end{equation}\n",
    "- The formula that we need to sample is then transformed from:\n",
    "\\begin{equation}\n",
    "f(x) \\longrightarrow f(y)/p(y)\n",
    "\\end{equation}\n",
    "**Exercise 5b:** \n",
    "- With these transformation (implemented in the code above, make sure you understand how it works), repeat the previous calculation of the error, for $n=3$ and $k=2.5$.\n",
    "- Compare the results of the calculations with and without Importance-Sampling by plotting them."
   ]
  },
  {
   "cell_type": "code",
   "execution_count": null,
   "id": "1a1b14a0",
   "metadata": {},
   "outputs": [],
   "source": [
    "# Your results and plot\n"
   ]
  },
  {
   "attachments": {},
   "cell_type": "markdown",
   "id": "1265e3e9",
   "metadata": {},
   "source": [
    "## Exercise 6: Monte Carlo integration to determine a Volume\n",
    "\n",
    "Monte Carlo integration can also be used to determine the volume of a multi-dimensional shape. Here you start with calculating the volume of a 3D circular sphere (with Radius $R=1$). To do this, you should:\n",
    "- use the multidimensional random number generator *np.random.uniform* to randomly select coordinates within the cube (with Volume $(2R)^3=8$) that encompasses your sphere. (This will give you $N$ values) \n",
    "- then select only those coordinates that lie within the sphere. (You are left with $N_{\\rm sphere}$ values).\n",
    "- Use the volume of the cube that you sampled from and the results for $N_{\\rm sphere}$ to determine the Volume of the 3D sphere. (Check if it matches the volume that you expect).\n"
   ]
  },
  {
   "cell_type": "code",
   "execution_count": null,
   "id": "089d0614",
   "metadata": {},
   "outputs": [],
   "source": [
    "# Your code here\n"
   ]
  },
  {
   "attachments": {},
   "cell_type": "markdown",
   "id": "9cb87c40",
   "metadata": {},
   "source": [
    "Finally, use the same method to calculate the volume of a *4-dimensional hypersphere*. You can imagine that this is hard to visualise and analytically calculate, but using multi-dimensional Monte Carlo integration this is fairly easy. The only thing you need to know is that the volume of a *4D hypercube* is $D^4$, where $D$ is the length of one of the sides."
   ]
  },
  {
   "cell_type": "code",
   "execution_count": null,
   "id": "a7a5b385",
   "metadata": {},
   "outputs": [],
   "source": [
    "# your code here. The analytical solution is 4.935\n"
   ]
  }
 ],
 "metadata": {
  "kernelspec": {
   "display_name": "Python 3 (ipykernel)",
   "language": "python",
   "name": "python3"
  },
  "language_info": {
   "codemirror_mode": {
    "name": "ipython",
    "version": 3
   },
   "file_extension": ".py",
   "mimetype": "text/x-python",
   "name": "python",
   "nbconvert_exporter": "python",
   "pygments_lexer": "ipython3",
   "version": "3.11.3"
  }
 },
 "nbformat": 4,
 "nbformat_minor": 5
}
